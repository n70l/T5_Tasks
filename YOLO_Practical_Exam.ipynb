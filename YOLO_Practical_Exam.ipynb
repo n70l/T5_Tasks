{
  "cells": [
    {
      "cell_type": "markdown",
      "metadata": {
        "id": "view-in-github",
        "colab_type": "text"
      },
      "source": [
        "<a href=\"https://colab.research.google.com/github/n70l/T5_pROJECT/blob/main/YOLO_Practical_Exam.ipynb\" target=\"_parent\"><img src=\"https://colab.research.google.com/assets/colab-badge.svg\" alt=\"Open In Colab\"/></a>"
      ]
    },
    {
      "cell_type": "markdown",
      "id": "fd8284c7",
      "metadata": {
        "id": "fd8284c7"
      },
      "source": [
        "# Road Traffic Vehicle Counting Exam"
      ]
    },
    {
      "cell_type": "markdown",
      "id": "90e8c1a5",
      "metadata": {
        "id": "90e8c1a5"
      },
      "source": [
        "In this exam, you will use the YOLO (You Only Look Once) object detection model to analyze a video of road traffic. Your primary task is to count the number of vehicles exiting the road at each of the four exits (located at the top, bottom, left, and right of the frame). The video for this task is provided at `Datasets/YOLO_Exam_Video.mp4`.\n",
        "\n",
        "## Objectives\n",
        "- Load and process the video using OpenCV.\n",
        "- Utilize the YOLO model to detect vehicles in each frame.\n",
        "- Manipulate the video frames using OpenCV.\n",
        "- Track vehicles as they move across the video frames.\n",
        "- Count the number of vehicles exiting via the top street.\n",
        "- Count the number of vehicles exiting via the bottom street.\n",
        "- Count the number of vehicles exiting via the left street.\n",
        "- Count the number of vehicles exiting via the right street.\n"
      ]
    },
    {
      "cell_type": "markdown",
      "id": "c7269b0e",
      "metadata": {
        "id": "c7269b0e"
      },
      "source": [
        "## Setup Environment"
      ]
    },
    {
      "cell_type": "markdown",
      "id": "2fd3bce8",
      "metadata": {
        "id": "2fd3bce8"
      },
      "source": [
        "Before you begin, ensure you have the necessary libraries installed. You will need `opencv`, and `ultralytics` among others.\n",
        "If these are not installed, you should install them."
      ]
    },
    {
      "cell_type": "code",
      "source": [
        "!pip install ultralytics -q"
      ],
      "metadata": {
        "id": "TQSJ4KEpH09i"
      },
      "id": "TQSJ4KEpH09i",
      "execution_count": 179,
      "outputs": []
    },
    {
      "cell_type": "code",
      "source": [
        "import cv2\n",
        "from ultralytics import YOLO, solutions"
      ],
      "metadata": {
        "id": "uTxr_MxJID7E"
      },
      "id": "uTxr_MxJID7E",
      "execution_count": 180,
      "outputs": []
    },
    {
      "cell_type": "markdown",
      "id": "a69c2ac2",
      "metadata": {
        "id": "a69c2ac2"
      },
      "source": [
        "## Load the YOLO Model"
      ]
    },
    {
      "cell_type": "markdown",
      "id": "145d70fc",
      "metadata": {
        "id": "145d70fc"
      },
      "source": [
        "You will first need to load the YOLO model, there is a custom model for this exam called `YOLO_Model.pt` under Datasets file ⚠️ PLEASE USE THIS MODEL AND DO NOT USE ANY OTHER MODEL ⚠️.\n",
        "Write the code to load the YOLO model below:"
      ]
    },
    {
      "cell_type": "code",
      "source": [
        "model = YOLO('/content/YOLO_Model.pt')"
      ],
      "metadata": {
        "id": "_fNZNb0OH9Tc"
      },
      "id": "_fNZNb0OH9Tc",
      "execution_count": 181,
      "outputs": []
    },
    {
      "cell_type": "markdown",
      "id": "cf691ac8",
      "metadata": {
        "id": "cf691ac8"
      },
      "source": [
        "## Prepare the Video Capture"
      ]
    },
    {
      "cell_type": "markdown",
      "metadata": {
        "id": "Nw9RSvKCdonK"
      },
      "source": [
        "Create a variable to capture the video frames, you can use `cv2.VideoCapture()` to achive this."
      ],
      "id": "Nw9RSvKCdonK"
    },
    {
      "cell_type": "code",
      "source": [
        "cap = cv2.VideoCapture('/content/YOLO_Video - Copy.mp4')\n",
        "assert cap.isOpened(), 'The file dose not Found'"
      ],
      "metadata": {
        "id": "QGd_8cwTB8l9"
      },
      "id": "QGd_8cwTB8l9",
      "execution_count": 182,
      "outputs": []
    },
    {
      "cell_type": "markdown",
      "id": "48757309",
      "metadata": {
        "id": "48757309"
      },
      "source": [
        "## Get Video Information"
      ]
    },
    {
      "cell_type": "markdown",
      "id": "b4f5d5bc",
      "metadata": {
        "id": "b4f5d5bc"
      },
      "source": [
        "You can use `cv2` library to get these information fro the `VideoCapture()` variable you created to extract these information:\n",
        "* `height`: Video's height.\n",
        "* `width`: Video's width.\n",
        "* `fps`: Video's frames."
      ]
    },
    {
      "cell_type": "code",
      "source": [
        "w, h, fps = (int(cap.get(x)) for x in (cv2.CAP_PROP_FRAME_WIDTH, cv2.CAP_PROP_FRAME_HEIGHT,  cv2.CAP_PROP_FPS))"
      ],
      "metadata": {
        "id": "JksjCm_mybo3"
      },
      "id": "JksjCm_mybo3",
      "execution_count": 183,
      "outputs": []
    },
    {
      "cell_type": "markdown",
      "id": "3f241495",
      "metadata": {
        "id": "3f241495"
      },
      "source": [
        "## Prepare Video Writer to Store the Output"
      ]
    },
    {
      "cell_type": "markdown",
      "id": "9ef61a34",
      "metadata": {
        "id": "9ef61a34"
      },
      "source": [
        "Create a variable that uses `cv2.VideoCapture()` to save the video with the bounding boxes, specified Region of Interest rectangle (ROI) and the counted vehicles on each sides. You will need to make the video with the same `fps`, `width`, `height`, and specify the codec and output path of the video."
      ]
    },
    {
      "cell_type": "markdown",
      "id": "31e882a2",
      "metadata": {
        "id": "31e882a2"
      },
      "source": [
        "## Expermint to get the `(x1, y1, x2, y2)` of the ROI"
      ]
    },
    {
      "cell_type": "markdown",
      "id": "3b6e6d97",
      "metadata": {
        "id": "3b6e6d97"
      },
      "source": [
        "### Hint\n",
        "When defining the Regions of Interest (ROIs) for detecting vehicles exiting the road, consider the coordinates that outline the relevant areas. These coordinates can be specified as `(x1, y1, x2, y2)`, where `(x1, y1)` is the top-left corner and `(x2, y2)` is the bottom-right corner of the rectangle.\n",
        "\n",
        "Experiment with different coordinates to accurately cover the streets where vehicles exit. Visualize these ROIs by drawing rectangles on a frame of the video and adjust the coordinates as needed until you capture the desired areas effectively."
      ]
    },
    {
      "cell_type": "code",
      "execution_count": 184,
      "id": "68f46e81",
      "metadata": {
        "vscode": {
          "languageId": "plaintext"
        },
        "id": "68f46e81",
        "colab": {
          "base_uri": "https://localhost:8080/"
        },
        "outputId": "58e9bf47-4001-45d2-9fef-e52600f5abda"
      },
      "outputs": [
        {
          "output_type": "stream",
          "name": "stdout",
          "text": [
            "WARNING ⚠️ Environment does not support cv2.imshow() or PIL Image.show()\n",
            "\n",
            "Polygon Counter Initiated.\n"
          ]
        }
      ],
      "source": [
        "region_points = [(300, 400), (320, 374), (420, 130), (200, 360)]\n",
        "\n",
        "video_writer = cv2.VideoWriter('Video_output_forWeeklyProject.mp4', cv2.VideoWriter_fourcc(*'mp4v'), fps, (w, h))\n",
        "counter = solutions.ObjectCounter(view_img = False, reg_pts = region_points, names = model.names, draw_tracks = True, line_thickness=1)"
      ]
    },
    {
      "cell_type": "markdown",
      "id": "067dbc12",
      "metadata": {
        "id": "067dbc12"
      },
      "source": [
        "## Process Video Frames and Identify Vehicles Left the Road Form Each Street"
      ]
    },
    {
      "cell_type": "markdown",
      "id": "aa695d88",
      "metadata": {
        "id": "aa695d88"
      },
      "source": [
        "For each frame in the video, use the YOLO model to detect and track vehicles. You will need to write a loop that processes each frame and applies the YOLO model.\n",
        "\n",
        "In each frame, after detecting the vehicles, determine whether they exited the road via the top, bottom, left, or right street. You can use the positions of the bounding boxes provided by YOLO to do this.\n",
        "\n",
        "- The video should display bounding boxes around the detected objects.\n",
        "- The video should display your name on the top.\n",
        "- It should display the calculated center of each vehicle.\n",
        "- The video should display the confidence score, alongside the object ID and class ID of each detected and tracked object.\n",
        "- The video should display the rectangles representing the regions where you count the vehicles that have crossed and exited.\n",
        "- The video should display the number of vehicles that exited via the top street.\n",
        "- The video should display the number of vehicles that exited via the bottom street.\n",
        "- The video should display the number of vehicles that exited via the left street.\n",
        "- The video should display the number of vehicles that exited via the right street."
      ]
    },
    {
      "cell_type": "code",
      "source": [
        "while cap.isOpened():\n",
        "  success, im0 = cap.read()\n",
        "  if not success:\n",
        "    print('Video frame is empty, or Video is alrady completed')\n",
        "    break\n",
        "  tracks = model.track(im0, persist=True, show = False)\n",
        "\n",
        "  im0 = counter.start_counting(im0, tracks)\n",
        "  video_writer.write(im0)"
      ],
      "metadata": {
        "colab": {
          "base_uri": "https://localhost:8080/"
        },
        "id": "hf8wQN0FGbiD",
        "outputId": "97b9f103-6c65-498d-ca1c-7d4ec74b88ad"
      },
      "id": "hf8wQN0FGbiD",
      "execution_count": 185,
      "outputs": [
        {
          "output_type": "stream",
          "name": "stdout",
          "text": [
            "\n",
            "0: 384x640 (no detections), 7973.5ms\n",
            "Speed: 5.2ms preprocess, 7973.5ms inference, 0.9ms postprocess per image at shape (1, 3, 384, 640)\n",
            "\n",
            "0: 384x640 1 bus, 72 cars, 2 trucks, 3 vans, 4646.1ms\n",
            "Speed: 4.8ms preprocess, 4646.1ms inference, 1.5ms postprocess per image at shape (1, 3, 384, 640)\n",
            "\n",
            "0: 384x640 1 bus, 72 cars, 2 trucks, 3 vans, 2807.5ms\n",
            "Speed: 4.8ms preprocess, 2807.5ms inference, 1.5ms postprocess per image at shape (1, 3, 384, 640)\n",
            "\n",
            "0: 384x640 1 bus, 73 cars, 2 trucks, 3 vans, 4254.0ms\n",
            "Speed: 4.4ms preprocess, 4254.0ms inference, 2.0ms postprocess per image at shape (1, 3, 384, 640)\n",
            "\n",
            "0: 384x640 1 bus, 73 cars, 2 trucks, 3 vans, 2850.3ms\n",
            "Speed: 4.0ms preprocess, 2850.3ms inference, 2.0ms postprocess per image at shape (1, 3, 384, 640)\n",
            "\n",
            "0: 384x640 1 bus, 73 cars, 2 trucks, 3 vans, 3190.3ms\n",
            "Speed: 7.4ms preprocess, 3190.3ms inference, 1.4ms postprocess per image at shape (1, 3, 384, 640)\n",
            "\n",
            "0: 384x640 1 bus, 74 cars, 2 trucks, 3 vans, 2802.9ms\n",
            "Speed: 4.1ms preprocess, 2802.9ms inference, 1.4ms postprocess per image at shape (1, 3, 384, 640)\n",
            "\n",
            "0: 384x640 1 bus, 74 cars, 2 trucks, 3 vans, 6333.4ms\n",
            "Speed: 4.8ms preprocess, 6333.4ms inference, 2.1ms postprocess per image at shape (1, 3, 384, 640)\n",
            "\n",
            "0: 384x640 1 bus, 75 cars, 2 trucks, 3 vans, 3942.4ms\n",
            "Speed: 4.8ms preprocess, 3942.4ms inference, 1.4ms postprocess per image at shape (1, 3, 384, 640)\n",
            "\n",
            "0: 384x640 1 bus, 75 cars, 2 trucks, 3 vans, 2898.8ms\n",
            "Speed: 4.7ms preprocess, 2898.8ms inference, 1.5ms postprocess per image at shape (1, 3, 384, 640)\n",
            "\n",
            "0: 384x640 1 bus, 77 cars, 2 trucks, 3 vans, 4590.9ms\n",
            "Speed: 3.8ms preprocess, 4590.9ms inference, 2.4ms postprocess per image at shape (1, 3, 384, 640)\n",
            "\n",
            "0: 384x640 1 bus, 77 cars, 2 trucks, 4 vans, 3469.8ms\n",
            "Speed: 4.4ms preprocess, 3469.8ms inference, 1.5ms postprocess per image at shape (1, 3, 384, 640)\n",
            "\n",
            "0: 384x640 1 bus, 78 cars, 2 trucks, 4 vans, 2810.3ms\n",
            "Speed: 4.5ms preprocess, 2810.3ms inference, 1.9ms postprocess per image at shape (1, 3, 384, 640)\n",
            "\n",
            "0: 384x640 1 bus, 79 cars, 2 trucks, 4 vans, 2922.4ms\n",
            "Speed: 4.0ms preprocess, 2922.4ms inference, 1.5ms postprocess per image at shape (1, 3, 384, 640)\n",
            "\n",
            "0: 384x640 1 bus, 79 cars, 2 trucks, 4 vans, 3575.5ms\n",
            "Speed: 3.5ms preprocess, 3575.5ms inference, 2.0ms postprocess per image at shape (1, 3, 384, 640)\n",
            "\n",
            "0: 384x640 1 bus, 79 cars, 2 trucks, 4 vans, 3595.6ms\n",
            "Speed: 5.1ms preprocess, 3595.6ms inference, 1.6ms postprocess per image at shape (1, 3, 384, 640)\n",
            "\n",
            "0: 384x640 1 bus, 80 cars, 2 trucks, 4 vans, 2812.7ms\n",
            "Speed: 4.7ms preprocess, 2812.7ms inference, 1.4ms postprocess per image at shape (1, 3, 384, 640)\n",
            "\n",
            "0: 384x640 1 bus, 80 cars, 2 trucks, 4 vans, 2782.0ms\n",
            "Speed: 3.7ms preprocess, 2782.0ms inference, 1.4ms postprocess per image at shape (1, 3, 384, 640)\n",
            "\n",
            "0: 384x640 1 bus, 81 cars, 2 trucks, 5 vans, 2948.2ms\n",
            "Speed: 4.2ms preprocess, 2948.2ms inference, 2.4ms postprocess per image at shape (1, 3, 384, 640)\n",
            "\n",
            "0: 384x640 1 bus, 82 cars, 2 trucks, 4 vans, 4053.6ms\n",
            "Speed: 5.5ms preprocess, 4053.6ms inference, 1.5ms postprocess per image at shape (1, 3, 384, 640)\n",
            "\n",
            "0: 384x640 1 bus, 82 cars, 2 trucks, 4 vans, 2793.4ms\n",
            "Speed: 4.0ms preprocess, 2793.4ms inference, 1.4ms postprocess per image at shape (1, 3, 384, 640)\n",
            "\n",
            "0: 384x640 1 bus, 82 cars, 2 trucks, 4 vans, 2915.6ms\n",
            "Speed: 4.5ms preprocess, 2915.6ms inference, 2.3ms postprocess per image at shape (1, 3, 384, 640)\n",
            "\n",
            "0: 384x640 1 bus, 82 cars, 2 trucks, 4 vans, 3251.8ms\n",
            "Speed: 12.2ms preprocess, 3251.8ms inference, 2.2ms postprocess per image at shape (1, 3, 384, 640)\n",
            "\n",
            "0: 384x640 1 bus, 82 cars, 2 trucks, 4 vans, 4176.0ms\n",
            "Speed: 5.1ms preprocess, 4176.0ms inference, 1.5ms postprocess per image at shape (1, 3, 384, 640)\n",
            "\n",
            "0: 384x640 1 bus, 84 cars, 2 trucks, 4 vans, 2830.8ms\n",
            "Speed: 3.9ms preprocess, 2830.8ms inference, 2.5ms postprocess per image at shape (1, 3, 384, 640)\n",
            "\n",
            "0: 384x640 1 bus, 84 cars, 2 trucks, 4 vans, 2798.5ms\n",
            "Speed: 5.3ms preprocess, 2798.5ms inference, 1.4ms postprocess per image at shape (1, 3, 384, 640)\n",
            "\n",
            "0: 384x640 1 bus, 84 cars, 2 trucks, 4 vans, 2770.2ms\n",
            "Speed: 4.7ms preprocess, 2770.2ms inference, 1.6ms postprocess per image at shape (1, 3, 384, 640)\n",
            "\n",
            "0: 384x640 1 bus, 85 cars, 2 trucks, 3 vans, 4151.8ms\n",
            "Speed: 7.3ms preprocess, 4151.8ms inference, 2.1ms postprocess per image at shape (1, 3, 384, 640)\n",
            "\n",
            "0: 384x640 1 bus, 85 cars, 2 trucks, 3 vans, 2932.5ms\n",
            "Speed: 4.8ms preprocess, 2932.5ms inference, 1.6ms postprocess per image at shape (1, 3, 384, 640)\n",
            "\n",
            "0: 384x640 2 buss, 83 cars, 2 trucks, 4 vans, 2807.9ms\n",
            "Speed: 4.5ms preprocess, 2807.9ms inference, 1.5ms postprocess per image at shape (1, 3, 384, 640)\n",
            "\n",
            "0: 384x640 2 buss, 83 cars, 2 trucks, 4 vans, 2812.7ms\n",
            "Speed: 4.6ms preprocess, 2812.7ms inference, 1.5ms postprocess per image at shape (1, 3, 384, 640)\n",
            "\n",
            "0: 384x640 2 buss, 84 cars, 2 trucks, 4 vans, 3669.6ms\n",
            "Speed: 5.9ms preprocess, 3669.6ms inference, 1.7ms postprocess per image at shape (1, 3, 384, 640)\n",
            "\n",
            "0: 384x640 2 buss, 84 cars, 2 trucks, 4 vans, 3791.9ms\n",
            "Speed: 5.0ms preprocess, 3791.9ms inference, 1.4ms postprocess per image at shape (1, 3, 384, 640)\n",
            "\n",
            "0: 384x640 2 buss, 84 cars, 2 trucks, 4 vans, 2803.3ms\n",
            "Speed: 4.0ms preprocess, 2803.3ms inference, 1.5ms postprocess per image at shape (1, 3, 384, 640)\n",
            "\n",
            "0: 384x640 2 buss, 82 cars, 2 trucks, 5 vans, 2796.5ms\n",
            "Speed: 4.1ms preprocess, 2796.5ms inference, 1.4ms postprocess per image at shape (1, 3, 384, 640)\n",
            "\n",
            "0: 384x640 2 buss, 83 cars, 2 trucks, 4 vans, 3267.9ms\n",
            "Speed: 4.7ms preprocess, 3267.9ms inference, 2.0ms postprocess per image at shape (1, 3, 384, 640)\n",
            "\n",
            "0: 384x640 2 buss, 83 cars, 2 trucks, 4 vans, 3760.5ms\n",
            "Speed: 4.4ms preprocess, 3760.5ms inference, 1.5ms postprocess per image at shape (1, 3, 384, 640)\n",
            "\n",
            "0: 384x640 2 buss, 83 cars, 2 trucks, 4 vans, 2822.3ms\n",
            "Speed: 4.2ms preprocess, 2822.3ms inference, 1.4ms postprocess per image at shape (1, 3, 384, 640)\n",
            "\n",
            "0: 384x640 2 buss, 83 cars, 2 trucks, 4 vans, 2790.1ms\n",
            "Speed: 4.9ms preprocess, 2790.1ms inference, 1.9ms postprocess per image at shape (1, 3, 384, 640)\n",
            "\n",
            "0: 384x640 2 buss, 84 cars, 2 trucks, 3 vans, 2799.1ms\n",
            "Speed: 4.8ms preprocess, 2799.1ms inference, 2.1ms postprocess per image at shape (1, 3, 384, 640)\n",
            "\n",
            "0: 384x640 2 buss, 85 cars, 1 truck, 3 vans, 4232.9ms\n",
            "Speed: 7.7ms preprocess, 4232.9ms inference, 1.4ms postprocess per image at shape (1, 3, 384, 640)\n",
            "\n",
            "0: 384x640 2 buss, 84 cars, 2 trucks, 3 vans, 2815.6ms\n",
            "Speed: 5.3ms preprocess, 2815.6ms inference, 1.4ms postprocess per image at shape (1, 3, 384, 640)\n",
            "\n",
            "0: 384x640 2 buss, 85 cars, 1 truck, 3 vans, 2792.1ms\n",
            "Speed: 5.7ms preprocess, 2792.1ms inference, 1.6ms postprocess per image at shape (1, 3, 384, 640)\n",
            "\n",
            "0: 384x640 2 buss, 84 cars, 2 trucks, 2 vans, 2854.0ms\n",
            "Speed: 4.1ms preprocess, 2854.0ms inference, 2.3ms postprocess per image at shape (1, 3, 384, 640)\n",
            "\n",
            "0: 384x640 2 buss, 83 cars, 2 trucks, 3 vans, 4137.9ms\n",
            "Speed: 5.1ms preprocess, 4137.9ms inference, 2.0ms postprocess per image at shape (1, 3, 384, 640)\n",
            "\n",
            "0: 384x640 2 buss, 83 cars, 2 trucks, 3 vans, 2889.3ms\n",
            "Speed: 4.8ms preprocess, 2889.3ms inference, 1.5ms postprocess per image at shape (1, 3, 384, 640)\n",
            "\n",
            "0: 384x640 2 buss, 83 cars, 2 trucks, 3 vans, 2792.6ms\n",
            "Speed: 4.2ms preprocess, 2792.6ms inference, 1.5ms postprocess per image at shape (1, 3, 384, 640)\n",
            "\n",
            "0: 384x640 2 buss, 84 cars, 2 trucks, 3 vans, 2828.6ms\n",
            "Speed: 5.7ms preprocess, 2828.6ms inference, 1.6ms postprocess per image at shape (1, 3, 384, 640)\n",
            "\n",
            "0: 384x640 2 buss, 85 cars, 2 trucks, 2 vans, 3519.7ms\n",
            "Speed: 5.2ms preprocess, 3519.7ms inference, 2.1ms postprocess per image at shape (1, 3, 384, 640)\n",
            "\n",
            "0: 384x640 2 buss, 85 cars, 2 trucks, 2 vans, 3528.9ms\n",
            "Speed: 6.1ms preprocess, 3528.9ms inference, 2.1ms postprocess per image at shape (1, 3, 384, 640)\n",
            "\n",
            "0: 384x640 2 buss, 84 cars, 2 trucks, 2 vans, 2832.6ms\n",
            "Speed: 8.2ms preprocess, 2832.6ms inference, 1.6ms postprocess per image at shape (1, 3, 384, 640)\n",
            "\n",
            "0: 384x640 2 buss, 82 cars, 2 trucks, 4 vans, 2796.8ms\n",
            "Speed: 6.4ms preprocess, 2796.8ms inference, 1.5ms postprocess per image at shape (1, 3, 384, 640)\n",
            "\n",
            "0: 384x640 2 buss, 83 cars, 2 trucks, 3 vans, 3077.3ms\n",
            "Speed: 4.0ms preprocess, 3077.3ms inference, 1.9ms postprocess per image at shape (1, 3, 384, 640)\n",
            "\n",
            "0: 384x640 2 buss, 82 cars, 2 trucks, 4 vans, 3935.3ms\n",
            "Speed: 4.1ms preprocess, 3935.3ms inference, 1.5ms postprocess per image at shape (1, 3, 384, 640)\n",
            "\n",
            "0: 384x640 2 buss, 82 cars, 3 trucks, 3 vans, 2762.4ms\n",
            "Speed: 4.2ms preprocess, 2762.4ms inference, 1.5ms postprocess per image at shape (1, 3, 384, 640)\n",
            "\n",
            "0: 384x640 2 buss, 82 cars, 2 trucks, 4 vans, 3408.1ms\n",
            "Speed: 3.9ms preprocess, 3408.1ms inference, 1.4ms postprocess per image at shape (1, 3, 384, 640)\n",
            "\n",
            "0: 384x640 2 buss, 83 cars, 2 trucks, 3 vans, 2847.0ms\n",
            "Speed: 4.1ms preprocess, 2847.0ms inference, 2.3ms postprocess per image at shape (1, 3, 384, 640)\n",
            "\n",
            "0: 384x640 2 buss, 82 cars, 2 trucks, 4 vans, 4122.3ms\n",
            "Speed: 5.3ms preprocess, 4122.3ms inference, 1.4ms postprocess per image at shape (1, 3, 384, 640)\n",
            "\n",
            "0: 384x640 2 buss, 83 cars, 2 trucks, 3 vans, 2779.8ms\n",
            "Speed: 4.9ms preprocess, 2779.8ms inference, 1.8ms postprocess per image at shape (1, 3, 384, 640)\n",
            "\n",
            "0: 384x640 2 buss, 84 cars, 2 trucks, 3 vans, 2817.3ms\n",
            "Speed: 4.9ms preprocess, 2817.3ms inference, 1.4ms postprocess per image at shape (1, 3, 384, 640)\n",
            "\n",
            "0: 384x640 2 buss, 85 cars, 2 trucks, 3 vans, 2770.2ms\n",
            "Speed: 4.7ms preprocess, 2770.2ms inference, 1.5ms postprocess per image at shape (1, 3, 384, 640)\n",
            "\n",
            "0: 384x640 2 buss, 84 cars, 2 trucks, 3 vans, 4136.3ms\n",
            "Speed: 5.6ms preprocess, 4136.3ms inference, 2.4ms postprocess per image at shape (1, 3, 384, 640)\n",
            "\n",
            "0: 384x640 2 buss, 84 cars, 2 trucks, 3 vans, 2795.6ms\n",
            "Speed: 5.0ms preprocess, 2795.6ms inference, 1.4ms postprocess per image at shape (1, 3, 384, 640)\n",
            "\n",
            "0: 384x640 2 buss, 83 cars, 2 trucks, 3 vans, 2770.4ms\n",
            "Speed: 5.8ms preprocess, 2770.4ms inference, 1.4ms postprocess per image at shape (1, 3, 384, 640)\n",
            "\n",
            "0: 384x640 2 buss, 82 cars, 2 trucks, 4 vans, 2780.9ms\n",
            "Speed: 4.5ms preprocess, 2780.9ms inference, 1.4ms postprocess per image at shape (1, 3, 384, 640)\n",
            "\n",
            "0: 384x640 2 buss, 84 cars, 2 trucks, 3 vans, 3642.3ms\n",
            "Speed: 3.8ms preprocess, 3642.3ms inference, 2.2ms postprocess per image at shape (1, 3, 384, 640)\n",
            "\n",
            "0: 384x640 2 buss, 84 cars, 2 trucks, 3 vans, 3410.8ms\n",
            "Speed: 5.4ms preprocess, 3410.8ms inference, 1.9ms postprocess per image at shape (1, 3, 384, 640)\n",
            "\n",
            "0: 384x640 2 buss, 84 cars, 2 trucks, 4 vans, 2805.6ms\n",
            "Speed: 4.9ms preprocess, 2805.6ms inference, 1.4ms postprocess per image at shape (1, 3, 384, 640)\n",
            "Video frame is empty, or Video is alrady completed\n"
          ]
        }
      ]
    },
    {
      "cell_type": "code",
      "source": [
        "cap.release()\n",
        "video_writer.release()\n",
        "cv2.destroyAllWindows()"
      ],
      "metadata": {
        "id": "aRPQ8xadHY2s"
      },
      "id": "aRPQ8xadHY2s",
      "execution_count": 186,
      "outputs": []
    },
    {
      "cell_type": "code",
      "source": [
        "# Video\n",
        "#  https://drive.google.com/drive/folders/1ysb2m8XzNy9mGJIF_lvEUaZnQtpPe0Br?usp=sharing\n",
        "#"
      ],
      "metadata": {
        "id": "nEiGjwVHzjc9"
      },
      "id": "nEiGjwVHzjc9",
      "execution_count": null,
      "outputs": []
    },
    {
      "cell_type": "code",
      "source": [
        "# Resorcess\n",
        "# https://docs.ultralytics.com/guides/object-counting/#real-world-applications"
      ],
      "metadata": {
        "id": "ZbzXAFSVyxa5"
      },
      "id": "ZbzXAFSVyxa5",
      "execution_count": null,
      "outputs": []
    },
    {
      "cell_type": "markdown",
      "id": "71d3083e",
      "metadata": {
        "id": "71d3083e"
      },
      "source": [
        "## Save and Submit Your Work"
      ]
    },
    {
      "cell_type": "markdown",
      "id": "ae5e33ac",
      "metadata": {
        "id": "ae5e33ac"
      },
      "source": [
        "Submit both the notebook and the output video"
      ]
    }
  ],
  "metadata": {
    "language_info": {
      "name": "python"
    },
    "colab": {
      "provenance": [],
      "include_colab_link": true
    },
    "kernelspec": {
      "name": "python3",
      "display_name": "Python 3"
    }
  },
  "nbformat": 4,
  "nbformat_minor": 5
}